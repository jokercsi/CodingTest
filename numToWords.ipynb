{
  "nbformat": 4,
  "nbformat_minor": 0,
  "metadata": {
    "colab": {
      "provenance": [],
      "collapsed_sections": [],
      "authorship_tag": "ABX9TyOus2SC3SJnn0R3yu9KNrkZ",
      "include_colab_link": true
    },
    "kernelspec": {
      "name": "python3",
      "display_name": "Python 3"
    },
    "language_info": {
      "name": "python"
    }
  },
  "cells": [
    {
      "cell_type": "markdown",
      "metadata": {
        "id": "view-in-github",
        "colab_type": "text"
      },
      "source": [
        "<a href=\"https://colab.research.google.com/github/jokercsi/CodingTest/blob/main/numToWords.ipynb\" target=\"_parent\"><img src=\"https://colab.research.google.com/assets/colab-badge.svg\" alt=\"Open In Colab\"/></a>"
      ]
    },
    {
      "cell_type": "code",
      "source": [
        "# 5 / 2 = 2.5\n",
        "# 5 // 2 = 2\n",
        "# 5 % 2 = 1\n",
        "less_than_20 = [\"zero\", \"one\", \"two\", \"three\", \"four\", \"five\", \"six\", \"seven\", \"eight\", \"nine\",\"eleven\", \"twelve\", \"thirteen\", \"fourteen\",\"fifteen\", \"sixteen\", \"seventeen\", \"eighteen\", \"nineteen\"]\n",
        "tens = [\"ten\", \"twenty\", \"thirty\", \"forty\", \"fifty\", \"sixty\", \"seventy\", \"eighty\", \"ninety\"]\n",
        "thousands = []\n",
        "\n",
        "def less_than_1000(n):\n",
        "    hund = n // 100 # 100の位の計算\n",
        "    ten = (n - h * 100) // 10 # 10の位の計算\n",
        "    one = (n - hNum * 100) % 10 # 1の位の計算\n",
        "\n",
        "    # 11~19\n",
        "    if n < 20:\n",
        "        return less_than_20[n]\n",
        "\n",
        "    # 0**\n",
        "    elif hund  == 0:\n",
        "        if ten == 0: # 00*\n",
        "            return one[oNum-1]\n",
        "        elif oNum == 0:  # 0*0\n",
        "            return tens[tNum-1]        \n",
        "        else: #0**\n",
        "            return tens[tNum-1] + \"-\" + less_than_20[one]\n",
        "\n",
        "    # 백이 있을 경우\n",
        "    # 십이 없을 경우\n",
        "    elif tNum == 0:\n",
        "        # 일이 0일 경우\n",
        "        if oNum == 0:\n",
        "            return one[hNum-1] + \" hundred\"\n",
        "        # 일이 있을 경우\n",
        "        else:\n",
        "            return one[hNum-1] + \" hundred and \" + one[oNum-1]\n",
        "\n",
        "    # 백이 있고 십도 있을 경우\n",
        "    else:\n",
        "        # 일의자리가 없을 경우\n",
        "        if oNum == 0:\n",
        "            return one[hNum-1] + \" hundred and \" + ten[tNum-1]\n",
        "\n",
        "        # 일의자리가 있을 경우\n",
        "        else:\n",
        "            if tNum == 1 and oNum != 0:\n",
        "                return one[hNum-1] + \" hundred and \" + fixnum[oNum-1]\n",
        "\n",
        "            else:\n",
        "                return one[hNum-1] + \" hundred and \" + ten[tNum-1] + \"-\" + one[oNum-1]\n",
        "\n",
        "\n",
        "\n",
        "def num_to_str(n):\n",
        "\n",
        "    "
      ],
      "metadata": {
        "id": "T5_iluonmOLP",
        "colab": {
          "base_uri": "https://localhost:8080/",
          "height": 137
        },
        "outputId": "60807d4c-5bac-4678-afed-9798688f2702"
      },
      "execution_count": 1,
      "outputs": [
        {
          "output_type": "error",
          "ename": "SyntaxError",
          "evalue": "ignored",
          "traceback": [
            "\u001b[0;36m  File \u001b[0;32m\"<ipython-input-1-fe36776c2435>\"\u001b[0;36m, line \u001b[0;32m54\u001b[0m\n\u001b[0;31m    \u001b[0m\n\u001b[0m    ^\u001b[0m\n\u001b[0;31mSyntaxError\u001b[0m\u001b[0;31m:\u001b[0m unexpected EOF while parsing\n"
          ]
        }
      ]
    },
    {
      "cell_type": "code",
      "source": [
        "num_to_str(504)"
      ],
      "metadata": {
        "id": "VTqNiooMwZ4U"
      },
      "execution_count": null,
      "outputs": []
    },
    {
      "cell_type": "code",
      "source": [
        "# 5 / 2 = 2.5\n",
        "# 5 // 2 = 2\n",
        "# 5 % 2 = 1\n",
        "\n",
        "def num_thousand(n):\n",
        "    fixnum = [\"eleven\", \"twelve\", \"thirteen\", \"fourteen\",\n",
        "              \"fifteen\", \"sixteen\", \"seventeen\", \"eighteen\", \"nineteen\"]\n",
        "    one = [\"one\", \"two\", \"three\", \"four\",\n",
        "           \"five\", \"six\", \"seven\", \"eight\", \"nine\"]\n",
        "    ten = [\"ten\", \"twenty\", \"thirty\", \"forty\", \"fifty\",\n",
        "           \"sixty\", \"seventy\", \"eighty\", \"ninety\"]\n",
        "\n",
        "    # 100の位の計算\n",
        "    thNum = n // 1000\n",
        "\n",
        "    hNum = (n - thNum * 1000) // 100\n",
        "\n",
        "    # 10の位の計算\n",
        "    teNum = (n - thNum * 1000 - hNum * 100) // 10\n",
        "\n",
        "    # 1の位の計算\n",
        "    oNum = (n - teNum * 100) % 10\n",
        "\n",
        "\n",
        "    print(thNum, hNum, teNum, oNum)\n",
        "\n",
        "    # n이11~19일 경우\n",
        "    if n >= 11 and n <= 19:\n",
        "        return fixnum[n-11]\n",
        "\n",
        "\n",
        "    # 천이 없을 때 (천 = 0)\n",
        "    elif thNum == 0:\n",
        "\n",
        "        # 백이 0일떄, \n",
        "        if hNum == 0:\n",
        "            #십의자리 0일때\n",
        "            if teNum == 0: \n",
        "              return one[oNum-1]\n",
        "\n",
        "            #십의자리, 일의 자리\n",
        "            else:  \n",
        "              return ten[teNum-1] + \"-\" + one[oNum-1]\n",
        "\n",
        "        # 백이 있을 경우\n",
        "        # 십이 없을 경우\n",
        "        elif teNum == 0:\n",
        "            # 일이 0일 경우\n",
        "            if oNum == 0:\n",
        "                return one[hNum-1] + \" hundred\"\n",
        "            # 일이 있을 경우\n",
        "            else:\n",
        "                return one[hNum-1] + \" hundred and \" + one[oNum-1]\n",
        "\n",
        "        # 백이 있을 때\n",
        "        else:\n",
        "          # 일의자리가 없을 경우\n",
        "          if oNum == 0:\n",
        "              return one[hNum-1] + \" hundred and \" + ten[teNum-1]\n",
        "\n",
        "          # 일의자리가 있을 경우\n",
        "          else:\n",
        "              if teNum == 1 and oNum != 0:\n",
        "                  return one[hNum-1] + \" hundred and \" + fixnum[oNum-1]\n",
        "\n",
        "              else:\n",
        "                  return one[hNum-1] + \" hundred and \" + ten[teNum-1] + \"-\" + one[oNum-1]\n",
        "\n",
        "\n",
        "\n",
        "\n",
        "\n",
        "\n",
        "     # 천이 있을 때\n",
        "\n",
        "\n"
      ],
      "metadata": {
        "id": "9m9Iwbxzxyj9"
      },
      "execution_count": null,
      "outputs": []
    },
    {
      "cell_type": "code",
      "source": [
        "num_thousand(10)"
      ],
      "metadata": {
        "id": "YF_qqr-yyahH"
      },
      "execution_count": null,
      "outputs": []
    },
    {
      "cell_type": "code",
      "source": [
        "# Number to Words\n",
        "\n",
        "# Main Logic\n",
        "ones = ('Zero', 'One', 'Two', 'Three', 'Four', 'Five', 'Six', 'Seven', 'Eight', 'Nine')\n",
        "\n",
        "twos = ('Ten', 'Eleven', 'Twelve', 'Thirteen', 'Fourteen', 'Fifteen', 'Sixteen', 'Seventeen', 'Eighteen', 'Nineteen')\n",
        "\n",
        "tens = ('Twenty', 'Thirty', 'Forty', 'Fifty', 'Sixty', 'Seventy', 'Eighty', 'Ninety', 'Hundred')\n",
        "\n",
        "suffixes = ('', 'Thousand', 'Million', 'Billion')\n",
        "\n",
        "def process(number, index):\n",
        "    \n",
        "    if number=='0':\n",
        "        return 'Zero'\n",
        "    \n",
        "    length = len(number)\n",
        "    \n",
        "    if(length > 3):\n",
        "        return False\n",
        "    \n",
        "    number = number.zfill(3)\n",
        "    words = ''\n",
        " \n",
        "    hdigit = int(number[0])\n",
        "    tdigit = int(number[1])\n",
        "    odigit = int(number[2])\n",
        "    \n",
        "    words += '' if number[0] == '0' else ones[hdigit]\n",
        "    words += ' Hundred ' if not words == '' else ''\n",
        "    \n",
        "    if(tdigit > 1):\n",
        "        words += tens[tdigit - 2]\n",
        "        words += ' '\n",
        "        words += ones[odigit]\n",
        "    \n",
        "    elif(tdigit == 1):\n",
        "        words += twos[(int(tdigit + odigit) % 10) - 1]\n",
        "        \n",
        "    elif(tdigit == 0):\n",
        "        words += ones[odigit]\n",
        "\n",
        "    if(words.endswith('Zero')):\n",
        "        words = words[:-len('Zero')]\n",
        "    else:\n",
        "        words += ' '\n",
        "     \n",
        "    if(not len(words) == 0):    \n",
        "        words += suffixes[index]\n",
        "        \n",
        "    return words;\n",
        "    \n",
        "def getWords(number):\n",
        "    length = len(str(number))\n",
        "    \n",
        "    if length>12:\n",
        "        return 'This program supports upto 12 digit numbers.'\n",
        "    \n",
        "    count = length // 3 if length % 3 == 0 else length // 3 + 1\n",
        "    copy = count\n",
        "    words = []\n",
        " \n",
        "    for i in range(length - 1, -1, -3):\n",
        "        words.append(process(str(number)[0 if i - 2 < 0 else i - 2 : i + 1], copy - count))\n",
        "        count -= 1;\n",
        "\n",
        "    final_words = ''\n",
        "    for s in reversed(words):\n",
        "        temp = s + ' '\n",
        "        final_words += temp\n",
        "    \n",
        "    return final_words\n",
        "# End Main Logic\n",
        "\n",
        "# Reading number from user\n",
        "number = int(input('Enter any number: '))\n",
        "print('%d in words is: %s' %(number, getWords(number)))"
      ],
      "metadata": {
        "id": "KCo3D1w5xtl0"
      },
      "execution_count": null,
      "outputs": []
    },
    {
      "cell_type": "code",
      "source": [
        "s = \"10.10\"\n",
        "if '.' in s:\n",
        "  n = float(s)\n",
        "else:\n",
        "  n = int(s)\n",
        "\n",
        "print(n)"
      ],
      "metadata": {
        "id": "pfePxzpkb8DT"
      },
      "execution_count": null,
      "outputs": []
    },
    {
      "cell_type": "code",
      "source": [
        "LESS_THAN_20 = [\"Zero\", \"One\", \"Two\", \"Three\", \"Four\", \"Five\", \"Six\", \"Seven\", \"Eight\", \"Nine\", \"Ten\", \"Eleven\", \"Twelve\", \"Thirteen\", \"Fourteen\", \"Fifteen\", \"Sixteen\", \"Seventeen\", \"Eighteen\", \"Nineteen\"];\n",
        "TENS = [\"\", \"Ten\", \"Twenty\", \"Thirty\", \"Forty\", \"Fifty\", \"Sixty\", \"Seventy\", \"Eighty\", \"Ninety\"]\n",
        "THOUSANDS = [\"\", \"Thousand\", \"Million\", \"Billion\"]\n",
        "\n",
        "def numberToWords(num):\n",
        "  if num < 20: \n",
        "    return LESS_THAN_20[num] \n",
        "\n",
        "  if num < 100: \n",
        "    return TENS[(int)(num/10)-2] + ('' if num%10==0 else ' ' + LESS_THAN_20[num%10]) "
      ],
      "metadata": {
        "id": "vsKatsGxO0k1"
      },
      "execution_count": null,
      "outputs": []
    },
    {
      "cell_type": "code",
      "source": [
        "numberToWords(19)"
      ],
      "metadata": {
        "colab": {
          "base_uri": "https://localhost:8080/",
          "height": 35
        },
        "id": "wntuywRqxPeI",
        "outputId": "6f63c684-7a83-4d5c-fce5-0e0340e8be9b"
      },
      "execution_count": null,
      "outputs": [
        {
          "output_type": "execute_result",
          "data": {
            "text/plain": [
              "'Nineteen'"
            ],
            "application/vnd.google.colaboratory.intrinsic+json": {
              "type": "string"
            }
          },
          "metadata": {},
          "execution_count": 40
        }
      ]
    },
    {
      "cell_type": "code",
      "source": [
        "def num2words(num): \n",
        "\tunder_20 = ['Zero','One','Two','Three','Four','Five','Six','Seven','Eight','Nine','Ten','Eleven','Twelve','Thirteen','Fourteen','Fifteen','Sixteen','Seventeen','Eighteen','Nineteen'] \n",
        "\ttens = ['Twenty','Thirty','Forty','Fifty','Sixty','Seventy','Eighty','Ninety'] \n",
        "\tabove_100 = {100: 'Hundred',1000:'Thousand', 1000000:'Million', 1000000000:'Billion'} \n",
        " \n",
        "\tif num < 20: \n",
        "\t\t return under_20[num] \n",
        "\t \n",
        "\tif num < 100: \n",
        "\t\treturn tens[(int)(num/10)-2] + ('' if num%10==0 else ' ' + under_20[num%10]) \n",
        " \n",
        "\t# find the appropriate pivot - 'Million' in 3,603,550, or 'Thousand' in 603,550 \n",
        "\tpivot = max([key for key in above_100.keys() if key <= num]) \n",
        " \n",
        "\treturn num2words((int)(num/pivot)) + ' ' + above_100[pivot] + ('' if num%pivot==0 else ' ' + num2words(num%pivot)) "
      ],
      "metadata": {
        "id": "bxYC9HE92tfQ"
      },
      "execution_count": 2,
      "outputs": []
    },
    {
      "cell_type": "code",
      "source": [
        " num2words(6030000)"
      ],
      "metadata": {
        "colab": {
          "base_uri": "https://localhost:8080/",
          "height": 35
        },
        "id": "y4Q3HVnO2ur2",
        "outputId": "b8d3ce1b-60ad-4363-85ed-cfcf0cc1f4eb"
      },
      "execution_count": 3,
      "outputs": [
        {
          "output_type": "execute_result",
          "data": {
            "text/plain": [
              "'Six Million Thirty Thousand'"
            ],
            "application/vnd.google.colaboratory.intrinsic+json": {
              "type": "string"
            }
          },
          "metadata": {},
          "execution_count": 3
        }
      ]
    },
    {
      "cell_type": "code",
      "source": [
        "def int_to_en(num):\n",
        "\n",
        "    d = { 0 : 'zero', 1 : 'one', 2 : 'two', 3 : 'three', 4 : 'four', 5 : 'five',\n",
        "          6 : 'six', 7 : 'seven', 8 : 'eight', 9 : 'nine', 10 : 'ten',\n",
        "          11 : 'eleven', 12 : 'twelve', 13 : 'thirteen', 14 : 'fourteen',\n",
        "          15 : 'fifteen', 16 : 'sixteen', 17 : 'seventeen', 18 : 'eighteen',\n",
        "          19 : 'nineteen', 20 : 'twenty',\n",
        "          30 : 'thirty', 40 : 'forty', 50 : 'fifty', 60 : 'sixty',\n",
        "          70 : 'seventy', 80 : 'eighty', 90 : 'ninety' }\n",
        "    k = 1000\n",
        "    m = 1000000 #million\n",
        "    b = 1000000000 #billion\n",
        "    t = 1000000000000 #trillion\n",
        "\n",
        "    #소수일 경우\n",
        "    # if num - int(num) == 0:\n",
        "    #   return(num - int(num))\n",
        "\n",
        "    # elif num - int(num) != 0:\n",
        "    #   return(num - int(num))\n",
        "\n",
        "\n",
        "    if (num < 20):\n",
        "        return d[num]\n",
        "        print(d[num])\n",
        "\n",
        "    if (num < 100):\n",
        "        if num % 10 == 0: return d[num]\n",
        "        else: return d[num // 10 * 10] + '-' + d[num % 10]\n",
        "\n",
        "    if (num < k):\n",
        "        if num % 100 == 0: return d[num // 100] + ' hundred'\n",
        "        else: return d[num // 100] + ' hundred ' + int_to_en(num % 100)\n",
        "\n",
        "    if (num < m):\n",
        "        if num % k == 0: return int_to_en(num // k) + ' thousand'\n",
        "        else: return int_to_en(num // k) + ' thousand, ' + int_to_en(num % k)\n",
        "\n",
        "    if (num < b):\n",
        "        if (num % m) == 0: return int_to_en(num // m) + ' million'\n",
        "        else: return int_to_en(num // m) + ' million, ' + int_to_en(num % m)\n",
        "\n",
        "    if (num < t):\n",
        "        if (num % b) == 0: return int_to_en(num // b) + ' billion'\n",
        "        else: return int_to_en(num // b) + ' billion, ' + int_to_en(num % b)\n",
        "\n",
        "    if (num % t == 0): return int_to_en(num // t) + ' trillion'\n",
        "    else: return int_to_en(num // t) + ' trillion, ' + int_to_en(num % t)\n",
        "\n"
      ],
      "metadata": {
        "id": "UzapRE_J3b_3"
      },
      "execution_count": 4,
      "outputs": []
    },
    {
      "cell_type": "code",
      "source": [
        "int_to_en(1803004)"
      ],
      "metadata": {
        "colab": {
          "base_uri": "https://localhost:8080/",
          "height": 35
        },
        "id": "YCFTfsJa3yPq",
        "outputId": "5a0a4c4a-0e61-4e32-aeb8-7f1140f1be74"
      },
      "execution_count": 5,
      "outputs": [
        {
          "output_type": "execute_result",
          "data": {
            "text/plain": [
              "'one million, eight hundred three thousand, four'"
            ],
            "application/vnd.google.colaboratory.intrinsic+json": {
              "type": "string"
            }
          },
          "metadata": {},
          "execution_count": 5
        }
      ]
    },
    {
      "cell_type": "code",
      "source": [
        "d = { 0 : 'zero', 1 : 'one', 2 : 'two', 3 : 'three', 4 : 'four', 5 : 'five',\n",
        "    6 : 'six', 7 : 'seven', 8 : 'eight', 9 : 'nine', 10 : 'ten',\n",
        "    11 : 'eleven', 12 : 'twelve', 13 : 'thirteen', 14 : 'fourteen',\n",
        "    15 : 'fifteen', 16 : 'sixteen', 17 : 'seventeen', 18 : 'eighteen',\n",
        "    19 : 'nineteen', 20 : 'twenty',\n",
        "    30 : 'thirty', 40 : 'forty', 50 : 'fifty', 60 : 'sixty',\n",
        "    70 : 'seventy', 80 : 'eighty', 90 : 'ninety' \n",
        "}\n",
        "t = 1000 #thousand\n",
        "m = 1000000 #million\n",
        "b = 1000000000 #billion\n",
        "\n",
        "def calculator(num):\n",
        "\n",
        "    #소수일 경우\n",
        "    if num - int(num) != 0:\n",
        "      print(float_to_eng(num))\n",
        "\n",
        "    #소수가 아닐 경우\n",
        "    else:\n",
        "      print(int_to_en(num))\n",
        "\n",
        "\n",
        "def float_to_eng(num):\n",
        "    sosu = num - int(num)\n",
        "    int_num = int(num)\n",
        "\n",
        "    return(int_to_en(int_num) + ' point ' + float_separate(num))\n",
        "\n",
        "\n",
        "def float_separate(num):\n",
        "    a = []\n",
        "    float_str = \"\"\n",
        "    for i in str(num):\n",
        "      a.append(i)\n",
        "    #정수 지우기\n",
        "    a = a[2:] \n",
        "\n",
        "    for i in a:\n",
        "      float_str += d[int(i)] + \" \"\n",
        "    return float_str\n",
        "\n",
        "\n",
        "def int_to_en(num):\n",
        "    if (num < 20):\n",
        "        return d[num]\n",
        "\n",
        "    elif (num < 100):\n",
        "        if num % 10 == 0: \n",
        "          return d[num]\n",
        "        else: \n",
        "          return d[num // 10 * 10] + '-' + d[num % 10]\n",
        "\n",
        "    elif (num < t):\n",
        "        if num % 100 == 0: \n",
        "          return d[num // 100] + ' hundred'\n",
        "        else: \n",
        "          return d[num // 100] + ' hundred ' + int_to_en(num % 100)\n",
        "\n",
        "    elif (num < m):\n",
        "        if num % t == 0: return int_to_en(num // t) + ' thousand'\n",
        "        else: return int_to_en(num // t) + ' thousand, ' + int_to_en(num % t)\n",
        "\n",
        "    elif (num < b):\n",
        "        if (num % m) == 0: return int_to_en(num // m) + ' million'\n",
        "        else: return int_to_en(num // m) + ' million, ' + int_to_en(num % m)"
      ],
      "metadata": {
        "id": "Y_EM-qbeDqb7"
      },
      "execution_count": 6,
      "outputs": []
    },
    {
      "cell_type": "code",
      "source": [
        "calculator(10005)"
      ],
      "metadata": {
        "colab": {
          "base_uri": "https://localhost:8080/"
        },
        "id": "w6lKw9IqEPxj",
        "outputId": "54113486-49e3-4931-f601-3b344be00030"
      },
      "execution_count": 7,
      "outputs": [
        {
          "output_type": "stream",
          "name": "stdout",
          "text": [
            "ten thousand, five\n"
          ]
        }
      ]
    },
    {
      "cell_type": "code",
      "source": [
        "import sys\n",
        "\n",
        "d = { 0 : 'zero', 1 : 'one', 2 : 'two', 3 : 'three', 4 : 'four', 5 : 'five',\n",
        "    6 : 'six', 7 : 'seven', 8 : 'eight', 9 : 'nine', 10 : 'ten',\n",
        "    11 : 'eleven', 12 : 'twelve', 13 : 'thirteen', 14 : 'fourteen',\n",
        "    15 : 'fifteen', 16 : 'sixteen', 17 : 'seventeen', 18 : 'eighteen',\n",
        "    19 : 'nineteen', 20 : 'twenty',\n",
        "    30 : 'thirty', 40 : 'forty', 50 : 'fifty', 60 : 'sixty',\n",
        "    70 : 'seventy', 80 : 'eighty', 90 : 'ninety' \n",
        "}\n",
        "\n",
        "t = 1000 #thousand\n",
        "m = 1000000 #million\n",
        "b = 1000000000 #billion\n",
        "tr = 1000000000000 #trillion\n",
        "\n",
        "def main(lines):\n",
        "    # このコードは標準入力と標準出力を用いたサンプルコードです。\n",
        "    # このコードは好きなように編集・削除してもらって構いません。\n",
        "    # ---\n",
        "    # This is a sample code to use stdin and stdout.\n",
        "    # Edit and remove this code as you like.\n",
        "\n",
        "\n",
        "    if not lines[0]:\n",
        "        print(-1)\n",
        "    elif lines[0].isalpha():\n",
        "        print(-1)\n",
        "    elif lines[0][0] == \"0\" and lines[0][1] != \".\":\n",
        "        print(-1)\n",
        "\n",
        "    else:\n",
        "        num = float(lines[0])\n",
        "\n",
        "        #소수일 경우\n",
        "        if num - int(num) != 0:\n",
        "            print(float_to_eng(num).capitalize())\n",
        "\n",
        "        #소수가 아닐 경우\n",
        "        elif num - int(num) == 0:\n",
        "            print(int_to_en(num).capitalize())\n",
        "\n",
        "\n",
        "def float_to_eng(num):\n",
        "    sosu = num - int(num)\n",
        "    int_num = int(num)\n",
        "    floatNum = round(sosu, 5)\n",
        "    return(int_to_en(int_num) + ' point ' + float_separate(floatNum))\n",
        "\n",
        "\n",
        "def float_separate(num):\n",
        "    a = []\n",
        "    float_str = \"\"\n",
        "\n",
        "    \n",
        "    for i in str(num):\n",
        "      a.append(i)\n",
        "    #정수 지우기\n",
        "    a = a[2:] \n",
        "\n",
        "    for i in a:\n",
        "      float_str += d[int(i)] + \" \"\n",
        "    return float_str\n",
        "\n",
        "\n",
        "def int_to_en(num):\n",
        "    if (num < 20):\n",
        "        return d[num]\n",
        "\n",
        "    elif (num < 100):\n",
        "        if num % 10 == 0: \n",
        "          return d[num]\n",
        "        else: \n",
        "          return d[num // 10 * 10] + ' ' + d[num % 10]\n",
        "\n",
        "    elif (num < t):\n",
        "        if num % 100 == 0: \n",
        "          return d[num // 100] + ' hundred'\n",
        "        else: \n",
        "          return d[num // 100] + ' hundred ' + int_to_en(num % 100)\n",
        "\n",
        "    elif (num < m):\n",
        "        if num % t == 0: return int_to_en(num // t) + ' thousand'\n",
        "        else: return int_to_en(num // t) + ' thousand ' + int_to_en(num % t)\n",
        "\n",
        "    elif (num < b):\n",
        "        if (num % m) == 0: return int_to_en(num // m) + ' million'\n",
        "        else: return int_to_en(num // m) + ' million ' + int_to_en(num % m)\n",
        "\n",
        "    elif (num < tr):\n",
        "        if (num % b) == 0: return int_to_en(num // b) + ' billion'\n",
        "        else: return int_to_en(num // b) + ' billion ' + int_to_en(num % b)\n",
        "\n",
        "\n",
        "\n",
        "if __name__ == '__main__':\n",
        "    lines = []\n",
        "    for l in sys.stdin:\n",
        "        lines.append(l.rstrip('\\r\\n'))\n",
        "    main(lines)"
      ],
      "metadata": {
        "id": "XxjJXempzRiT",
        "colab": {
          "base_uri": "https://localhost:8080/",
          "height": 338
        },
        "outputId": "d9a35791-fd79-4e73-e883-26f179d4ec31"
      },
      "execution_count": 8,
      "outputs": [
        {
          "output_type": "error",
          "ename": "IndexError",
          "evalue": "ignored",
          "traceback": [
            "\u001b[0;31m---------------------------------------------------------------------------\u001b[0m",
            "\u001b[0;31mIndexError\u001b[0m                                Traceback (most recent call last)",
            "\u001b[0;32m<ipython-input-8-31fbb1529dae>\u001b[0m in \u001b[0;36m<module>\u001b[0;34m\u001b[0m\n\u001b[1;32m     98\u001b[0m     \u001b[0;32mfor\u001b[0m \u001b[0ml\u001b[0m \u001b[0;32min\u001b[0m \u001b[0msys\u001b[0m\u001b[0;34m.\u001b[0m\u001b[0mstdin\u001b[0m\u001b[0;34m:\u001b[0m\u001b[0;34m\u001b[0m\u001b[0;34m\u001b[0m\u001b[0m\n\u001b[1;32m     99\u001b[0m         \u001b[0mlines\u001b[0m\u001b[0;34m.\u001b[0m\u001b[0mappend\u001b[0m\u001b[0;34m(\u001b[0m\u001b[0ml\u001b[0m\u001b[0;34m.\u001b[0m\u001b[0mrstrip\u001b[0m\u001b[0;34m(\u001b[0m\u001b[0;34m'\\r\\n'\u001b[0m\u001b[0;34m)\u001b[0m\u001b[0;34m)\u001b[0m\u001b[0;34m\u001b[0m\u001b[0;34m\u001b[0m\u001b[0m\n\u001b[0;32m--> 100\u001b[0;31m     \u001b[0mmain\u001b[0m\u001b[0;34m(\u001b[0m\u001b[0mlines\u001b[0m\u001b[0;34m)\u001b[0m\u001b[0;34m\u001b[0m\u001b[0;34m\u001b[0m\u001b[0m\n\u001b[0m",
            "\u001b[0;32m<ipython-input-8-31fbb1529dae>\u001b[0m in \u001b[0;36mmain\u001b[0;34m(lines)\u001b[0m\n\u001b[1;32m     23\u001b[0m \u001b[0;34m\u001b[0m\u001b[0m\n\u001b[1;32m     24\u001b[0m \u001b[0;34m\u001b[0m\u001b[0m\n\u001b[0;32m---> 25\u001b[0;31m     \u001b[0;32mif\u001b[0m \u001b[0;32mnot\u001b[0m \u001b[0mlines\u001b[0m\u001b[0;34m[\u001b[0m\u001b[0;36m0\u001b[0m\u001b[0;34m]\u001b[0m\u001b[0;34m:\u001b[0m\u001b[0;34m\u001b[0m\u001b[0;34m\u001b[0m\u001b[0m\n\u001b[0m\u001b[1;32m     26\u001b[0m         \u001b[0mprint\u001b[0m\u001b[0;34m(\u001b[0m\u001b[0;34m-\u001b[0m\u001b[0;36m1\u001b[0m\u001b[0;34m)\u001b[0m\u001b[0;34m\u001b[0m\u001b[0;34m\u001b[0m\u001b[0m\n\u001b[1;32m     27\u001b[0m     \u001b[0;32melif\u001b[0m \u001b[0mlines\u001b[0m\u001b[0;34m[\u001b[0m\u001b[0;36m0\u001b[0m\u001b[0;34m]\u001b[0m\u001b[0;34m.\u001b[0m\u001b[0misalpha\u001b[0m\u001b[0;34m(\u001b[0m\u001b[0;34m)\u001b[0m\u001b[0;34m:\u001b[0m\u001b[0;34m\u001b[0m\u001b[0;34m\u001b[0m\u001b[0m\n",
            "\u001b[0;31mIndexError\u001b[0m: list index out of range"
          ]
        }
      ]
    },
    {
      "cell_type": "code",
      "source": [],
      "metadata": {
        "id": "lEiJbBFaxvXw"
      },
      "execution_count": null,
      "outputs": []
    }
  ]
}