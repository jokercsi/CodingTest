{
  "nbformat": 4,
  "nbformat_minor": 0,
  "metadata": {
    "colab": {
      "provenance": [],
      "authorship_tag": "ABX9TyOKZckztGHaiyEX61kaW472",
      "include_colab_link": true
    },
    "kernelspec": {
      "name": "python3",
      "display_name": "Python 3"
    },
    "language_info": {
      "name": "python"
    }
  },
  "cells": [
    {
      "cell_type": "markdown",
      "metadata": {
        "id": "view-in-github",
        "colab_type": "text"
      },
      "source": [
        "<a href=\"https://colab.research.google.com/github/jokercsi/CodingTest/blob/main/%EC%88%AB%EC%9E%90%EB%A5%BC%EC%98%81%EC%96%B4%EB%A1%9C%ED%91%9C%EA%B8%B0.ipynb\" target=\"_parent\"><img src=\"https://colab.research.google.com/assets/colab-badge.svg\" alt=\"Open In Colab\"/></a>"
      ]
    },
    {
      "cell_type": "code",
      "execution_count": null,
      "metadata": {
        "id": "H_YvjKKQy1wi"
      },
      "outputs": [],
      "source": [
        "import sys\n",
        "\n",
        "d = { 0 : 'zero', 1 : 'one', 2 : 'two', 3 : 'three', 4 : 'four', 5 : 'five',\n",
        "    6 : 'six', 7 : 'seven', 8 : 'eight', 9 : 'nine', 10 : 'ten',\n",
        "    11 : 'eleven', 12 : 'twelve', 13 : 'thirteen', 14 : 'fourteen',\n",
        "    15 : 'fifteen', 16 : 'sixteen', 17 : 'seventeen', 18 : 'eighteen',\n",
        "    19 : 'nineteen', 20 : 'twenty',\n",
        "    30 : 'thirty', 40 : 'forty', 50 : 'fifty', 60 : 'sixty',\n",
        "    70 : 'seventy', 80 : 'eighty', 90 : 'ninety' \n",
        "}\n",
        "\n",
        "t = 1000 #thousand\n",
        "m = 1000000 #million\n",
        "b = 1000000000 #billion\n",
        "tr = 1000000000000 #trillion\n",
        "\n",
        "def main(lines):\n",
        "\n",
        "    if not lines[0]:\n",
        "        print(-1)\n",
        "    elif lines[0].isalpha():\n",
        "        print(-1)\n",
        "    elif lines[0][0] == \"0\" and lines[0][1] != \".\":\n",
        "        print(-1)\n",
        "\n",
        "    else:\n",
        "        num = float(lines[0])\n",
        "\n",
        "        #소수일 경우\n",
        "        if num - int(num) != 0:\n",
        "            print(float_to_eng(num).capitalize())\n",
        "\n",
        "        #소수가 아닐 경우\n",
        "        elif num - int(num) == 0:\n",
        "            print(int_to_en(num).capitalize())\n",
        "\n",
        "\n",
        "def float_to_eng(num):\n",
        "    sosu = num - int(num)\n",
        "    int_num = int(num)\n",
        "    floatNum = round(sosu, 5)\n",
        "    return(int_to_en(int_num) + ' point ' + float_separate(floatNum))\n",
        "\n",
        "\n",
        "def float_separate(num):\n",
        "    a = []\n",
        "    float_str = \"\"\n",
        "\n",
        "    \n",
        "    for i in str(num):\n",
        "      a.append(i)\n",
        "    #정수 지우기\n",
        "    a = a[2:] \n",
        "\n",
        "    for i in a:\n",
        "      float_str += d[int(i)] + \" \"\n",
        "    return float_str\n",
        "\n",
        "\n",
        "def int_to_en(num):\n",
        "    if (num < 20):\n",
        "        return d[num]\n",
        "\n",
        "    elif (num < 100):\n",
        "        if num % 10 == 0: \n",
        "          return d[num]\n",
        "        else: \n",
        "          return d[num // 10 * 10] + ' ' + d[num % 10]\n",
        "\n",
        "    elif (num < t):\n",
        "        if num % 100 == 0: \n",
        "          return d[num // 100] + ' hundred'\n",
        "        else: \n",
        "          return d[num // 100] + ' hundred ' + int_to_en(num % 100)\n",
        "\n",
        "    elif (num < m):\n",
        "        if num % t == 0: return int_to_en(num // t) + ' thousand'\n",
        "        else: return int_to_en(num // t) + ' thousand ' + int_to_en(num % t)\n",
        "\n",
        "    elif (num < b):\n",
        "        if (num % m) == 0: return int_to_en(num // m) + ' million'\n",
        "        else: return int_to_en(num // m) + ' million ' + int_to_en(num % m)\n",
        "\n",
        "    elif (num < tr):\n",
        "        if (num % b) == 0: return int_to_en(num // b) + ' billion'\n",
        "        else: return int_to_en(num // b) + ' billion ' + int_to_en(num % b)"
      ]
    }
  ]
}